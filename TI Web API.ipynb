{
 "cells": [
  {
   "cell_type": "code",
   "execution_count": null,
   "metadata": {},
   "outputs": [],
   "source": [
    "\n",
    "\n",
    "import requests\n",
    "import json\n",
    "import pandas as pd\n",
    "\n",
    "#Create an empty list for reponses\n",
    "response_list = []\n",
    "\n",
    "# Create the first connection to get started\n",
    "endpoint = \"https://sample.thoughtindustries.com/incoming/v2/events/courseCompletion\"\n",
    "headers = {\"Authorization\": \"Bearer #Enter your API Key from thought industries here\"}\n",
    "response = requests.get(endpoint, headers=headers).json()\n",
    "response_dict = dict(response)\n",
    "# Determine if hasMore is equal to True\n",
    "has_more = response_dict.get('pageInfo', {}).get('hasMore')\n",
    "# Use the .get method on the dictionary to pull out the cursor value\n",
    "cursor_value = str(response_dict.get('pageInfo', {}).get('cursor'))\n",
    "response_list.append(cursor_value)\n",
    "\n",
    "#loop through the rest of the pages to get the cursor values. Use the range function to determine how many pages of data you would like\n",
    "for x in range(1, 20):\n",
    "    next_endpoint = \"https://sample.thoughtindustries.com/incoming/v2/events/courseCompletion\"\n",
    "    next_response_url = next_endpoint +\"?cursor=\"+ cursor_value\n",
    "    next_response = requests.get(next_response_url, headers=headers).json()\n",
    "    next_response_dict = dict(next_response)\n",
    "    has_more = next_response_dict.get('pageInfo', {}).get('hasMore')\n",
    "    cursor_value = next_response_dict.get('pageInfo', {}).get('cursor')\n",
    "    response_list.append(cursor_value)\n",
    "    \n",
    "    \n",
    "#Set loops = 0. #First loop creates the dataframe, the subsequent ones add to it.     \n",
    "loops = 0\n",
    "\n",
    "# use the cursor values in the response list now to get the data. Convert to a JSON then to a dictionary and then to a dataframe.\n",
    "for cursor in response_list:\n",
    "    loops +=1\n",
    "    endpoint = \"https://sample.thoughtindustries.com/incoming/v2/events/courseCompletion\"+\"?cursor=\"+cursor\n",
    "    headers = {\"Authorization\": \"#Enter API Key Here\"}\n",
    "    response = requests.get(endpoint, headers=headers).json()\n",
    "    response_dict = dict(response)\n",
    "    event_dict = { key:value for (key,value) in response_dict.items() if key == \"events\"}\n",
    "    events_unnested = event_dict.get('events', {}) \n",
    "    if loops == 1:\n",
    "        course_data_df = pd.DataFrame.from_dict(events_unnested)\n",
    "    else:\n",
    "        to_append = pd.DataFrame.from_dict(events_unnested)\n",
    "        course_data_df = course_data_df.append(to_append)\n",
    "\n",
    "print(course_data_df)"
   ]
  }
 ],
 "metadata": {
  "kernelspec": {
   "display_name": "Python 3",
   "language": "python",
   "name": "python3"
  },
  "language_info": {
   "codemirror_mode": {
    "name": "ipython",
    "version": 3
   },
   "file_extension": ".py",
   "mimetype": "text/x-python",
   "name": "python",
   "nbconvert_exporter": "python",
   "pygments_lexer": "ipython3",
   "version": "3.7.4"
  }
 },
 "nbformat": 4,
 "nbformat_minor": 2
}
